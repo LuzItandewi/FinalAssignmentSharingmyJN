{
 "cells": [
  {
   "cell_type": "markdown",
   "id": "fe9831d0",
   "metadata": {},
   "source": [
    "# Data Science Tools and Ecosystem"
   ]
  },
  {
   "cell_type": "markdown",
   "id": "22546ecd",
   "metadata": {},
   "source": [
    "In this notebook, Data Science Tools and Ecosystem are summarized."
   ]
  },
  {
   "cell_type": "markdown",
   "id": "b3835664",
   "metadata": {},
   "source": [
    "Some of the popular languages that Data Scientists use are:"
   ]
  },
  {
   "cell_type": "markdown",
   "id": "3fda7e44",
   "metadata": {},
   "source": [
    "1. Python\n",
    "2. R\n",
    "3. SQL"
   ]
  },
  {
   "cell_type": "markdown",
   "id": "3a8f3e5a",
   "metadata": {},
   "source": [
    "Some of the commonly used libraries used by Data Scientists include:"
   ]
  },
  {
   "cell_type": "markdown",
   "id": "69a99f3b",
   "metadata": {},
   "source": [
    "1. Pandas\n",
    "2. NumPy\n",
    "3. Matplotlib"
   ]
  },
  {
   "cell_type": "markdown",
   "id": "f19d1f93",
   "metadata": {},
   "source": [
    "| ** Data Science Tools |\n",
    "| ---------- |\n",
    "| Jupyter|\n",
    "| Apache Zeppelin |\n",
    "| RStudio |"
   ]
  },
  {
   "cell_type": "markdown",
   "id": "3713d803",
   "metadata": {},
   "source": [
    "### Below are a few examples of evaluating arithmetic expressions in Python"
   ]
  },
  {
   "cell_type": "code",
   "execution_count": 1,
   "id": "406f223e",
   "metadata": {},
   "outputs": [
    {
     "data": {
      "text/plain": [
       "17"
      ]
     },
     "execution_count": 1,
     "metadata": {},
     "output_type": "execute_result"
    }
   ],
   "source": [
    "# This a simple arithmetic expression to mutiply then add integers\n",
    "(3*4)+5"
   ]
  },
  {
   "cell_type": "code",
   "execution_count": 2,
   "id": "e5c87b0b",
   "metadata": {},
   "outputs": [
    {
     "data": {
      "text/plain": [
       "3.3333333333333335"
      ]
     },
     "execution_count": 2,
     "metadata": {},
     "output_type": "execute_result"
    }
   ],
   "source": [
    "# This will convert 200 minutes to hours by diving by 60\n",
    "(200/60)"
   ]
  },
  {
   "cell_type": "markdown",
   "id": "5e6a227a",
   "metadata": {},
   "source": [
    "**Objetives:**"
   ]
  },
  {
   "cell_type": "markdown",
   "id": "8bad261c",
   "metadata": {},
   "source": [
    "- Popular Languages used by Data Scientists\n",
    "- Commonly used libraries by Data Scientists\n",
    "- Data Science Tools"
   ]
  },
  {
   "cell_type": "markdown",
   "id": "fee718ab",
   "metadata": {},
   "source": [
    "## Author"
   ]
  },
  {
   "cell_type": "markdown",
   "id": "51e5c0de",
   "metadata": {},
   "source": [
    "Luz Itandewi Cortes Padilla"
   ]
  },
  {
   "cell_type": "code",
   "execution_count": null,
   "id": "cfbbe399",
   "metadata": {},
   "outputs": [],
   "source": []
  }
 ],
 "metadata": {
  "kernelspec": {
   "display_name": "Python 3 (ipykernel)",
   "language": "python",
   "name": "python3"
  },
  "language_info": {
   "codemirror_mode": {
    "name": "ipython",
    "version": 3
   },
   "file_extension": ".py",
   "mimetype": "text/x-python",
   "name": "python",
   "nbconvert_exporter": "python",
   "pygments_lexer": "ipython3",
   "version": "3.11.4"
  }
 },
 "nbformat": 4,
 "nbformat_minor": 5
}
